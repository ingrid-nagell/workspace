{
 "cells": [
  {
   "cell_type": "code",
   "execution_count": 3,
   "id": "fa290333-92d2-4249-9a80-29c655a3757a",
   "metadata": {},
   "outputs": [],
   "source": [
    "import pandas as pd\n",
    "import matplotlib.pyplot as plt"
   ]
  },
  {
   "cell_type": "code",
   "execution_count": 24,
   "id": "433ab8bf-4f44-4f3e-b4c4-fecb515a2a19",
   "metadata": {},
   "outputs": [],
   "source": [
    "df_tesla = pd.read_csv('C:\\\\Users\\\\G020772\\\\data\\\\bootcamp\\\\day75\\\\TESLA Search Trend vs Price.csv')\n",
    "df_tesla.name = 'tesla'\n",
    "\n",
    "df_btc_search = pd.read_csv('C:\\\\Users\\\\G020772\\\\data\\\\bootcamp\\\\day75\\\\Bitcoin Search Trend.csv')\n",
    "df_btc_search.name = 'btc search'\n",
    "df_btc_price = pd.read_csv('C:\\\\Users\\\\G020772\\\\data\\\\bootcamp\\\\day75\\\\Daily Bitcoin Price.csv')\n",
    "df_btc_price.name = 'btc price'\n",
    "\n",
    "df_unemployment = pd.read_csv('C:\\\\Users\\\\G020772\\\\data\\\\bootcamp\\\\day75\\\\UE Benefits Search vs UE Rate 2004-19.csv')\n",
    "df_unemployment.name = 'unemployment'"
   ]
  },
  {
   "cell_type": "code",
   "execution_count": 36,
   "id": "ce2822b2-2c2e-440d-848c-abb24c90694f",
   "metadata": {},
   "outputs": [
    {
     "name": "stdout",
     "output_type": "stream",
     "text": [
      "tesla : (124, 3) ['MONTH', 'TSLA_WEB_SEARCH', 'TSLA_USD_CLOSE']\n",
      "btc search : (73, 2) ['MONTH', 'BTC_NEWS_SEARCH']\n",
      "btc price : (2204, 3) ['DATE', 'CLOSE', 'VOLUME']\n",
      "unemployment : (181, 3) ['MONTH', 'UE_BENEFITS_WEB_SEARCH', 'UNRATE']\n"
     ]
    }
   ],
   "source": [
    "dfs = [df_tesla, df_btc_search, df_btc_price, df_unemployment]\n",
    "\n",
    "for df in dfs:\n",
    "    \n",
    "    print(\n",
    "        df.name,\":\", df.shape, list(df.columns)\n",
    "    )"
   ]
  },
  {
   "cell_type": "code",
   "execution_count": 43,
   "id": "b3b9208f-cdf0-4914-bab6-91f90d0df120",
   "metadata": {},
   "outputs": [
    {
     "name": "stdout",
     "output_type": "stream",
     "text": [
      "Largest value for Tesla in Web Search: 31\n",
      "Smallest value for Tesla in Web Search: 2\n"
     ]
    },
    {
     "data": {
      "text/plain": [
       "<matplotlib.collections.PathCollection at 0x25452bc5c10>"
      ]
     },
     "execution_count": 43,
     "metadata": {},
     "output_type": "execute_result"
    },
    {
     "data": {
      "image/png": "[encoded data removed]",
      "text/plain": [
       "<Figure size 640x480 with 1 Axes>"
      ]
     },
     "metadata": {},
     "output_type": "display_data"
    }
   ],
   "source": [
    "# Tesla\n",
    "print(f'Largest value for Tesla in Web Search: {df_tesla[\"TSLA_WEB_SEARCH\"].max()}')\n",
    "print(f'Smallest value for Tesla in Web Search: {df_tesla[\"TSLA_WEB_SEARCH\"].min()}')\n",
    "plt.scatter(df_tesla.MONTH, df_tesla.TSLA_WEB_SEARCH)"
   ]
  }
 ],
 "metadata": {
  "kernelspec": {
   "display_name": "Python 3 (ipykernel)",
   "language": "python",
   "name": "python3"
  },
  "language_info": {
   "codemirror_mode": {
    "name": "ipython",
    "version": 3
   },
   "file_extension": ".py",
   "mimetype": "text/x-python",
   "name": "python",
   "nbconvert_exporter": "python",
   "pygments_lexer": "ipython3",
   "version": "3.11.3"
  }
 },
 "nbformat": 4,
 "nbformat_minor": 5
}
