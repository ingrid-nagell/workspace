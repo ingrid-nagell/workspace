{
 "cells": [
  {
   "cell_type": "code",
   "execution_count": 11,
   "metadata": {},
   "outputs": [],
   "source": [
    "import pandas as pd\n",
    "import numpy as np"
   ]
  },
  {
   "cell_type": "code",
   "execution_count": 14,
   "metadata": {},
   "outputs": [],
   "source": [
    "relative_path = r\"../../data/skade_txt/skadesak_matches.csv\"\n",
    "df = pd.read_csv(relative_path)"
   ]
  },
  {
   "cell_type": "code",
   "execution_count": 31,
   "metadata": {},
   "outputs": [
    {
     "data": {
      "text/html": [
       "<div>\n",
       "<style scoped>\n",
       "    .dataframe tbody tr th:only-of-type {\n",
       "        vertical-align: middle;\n",
       "    }\n",
       "\n",
       "    .dataframe tbody tr th {\n",
       "        vertical-align: top;\n",
       "    }\n",
       "\n",
       "    .dataframe thead th {\n",
       "        text-align: right;\n",
       "    }\n",
       "</style>\n",
       "<table border=\"1\" class=\"dataframe\">\n",
       "  <thead>\n",
       "    <tr style=\"text-align: right;\">\n",
       "      <th></th>\n",
       "      <th>Text</th>\n",
       "      <th>Korrekt_klassifiering</th>\n",
       "    </tr>\n",
       "  </thead>\n",
       "  <tbody>\n",
       "    <tr>\n",
       "      <th>count</th>\n",
       "      <td>603</td>\n",
       "      <td>603</td>\n",
       "    </tr>\n",
       "    <tr>\n",
       "      <th>unique</th>\n",
       "      <td>600</td>\n",
       "      <td>2</td>\n",
       "    </tr>\n",
       "    <tr>\n",
       "      <th>top</th>\n",
       "      <td>Jeg Ã¸nsker at denne skaden annulleres. Ã…rsak...</td>\n",
       "      <td>J</td>\n",
       "    </tr>\n",
       "    <tr>\n",
       "      <th>freq</th>\n",
       "      <td>2</td>\n",
       "      <td>474</td>\n",
       "    </tr>\n",
       "  </tbody>\n",
       "</table>\n",
       "</div>"
      ],
      "text/plain": [
       "                                                     Text  \\\n",
       "count                                                 603   \n",
       "unique                                                600   \n",
       "top     Jeg Ã¸nsker at denne skaden annulleres. Ã…rsak...   \n",
       "freq                                                    2   \n",
       "\n",
       "       Korrekt_klassifiering  \n",
       "count                    603  \n",
       "unique                     2  \n",
       "top                        J  \n",
       "freq                     474  "
      ]
     },
     "execution_count": 31,
     "metadata": {},
     "output_type": "execute_result"
    }
   ],
   "source": [
    "df[[\"Text\",\"Korrekt_klassifiering\"]].describe()"
   ]
  },
  {
   "cell_type": "code",
   "execution_count": 36,
   "metadata": {},
   "outputs": [],
   "source": [
    "def telle_tegn(tekst):\n",
    "    return len(tekst)\n",
    "\n",
    "df[\"lengde_tekst\"] = df[\"Text\"].apply(telle_tegn)"
   ]
  },
  {
   "cell_type": "code",
   "execution_count": 40,
   "metadata": {},
   "outputs": [
    {
     "data": {
      "text/html": [
       "<div>\n",
       "<style scoped>\n",
       "    .dataframe tbody tr th:only-of-type {\n",
       "        vertical-align: middle;\n",
       "    }\n",
       "\n",
       "    .dataframe tbody tr th {\n",
       "        vertical-align: top;\n",
       "    }\n",
       "\n",
       "    .dataframe thead th {\n",
       "        text-align: right;\n",
       "    }\n",
       "</style>\n",
       "<table border=\"1\" class=\"dataframe\">\n",
       "  <thead>\n",
       "    <tr style=\"text-align: right;\">\n",
       "      <th></th>\n",
       "      <th>count</th>\n",
       "      <th>mean</th>\n",
       "      <th>std</th>\n",
       "      <th>min</th>\n",
       "      <th>25%</th>\n",
       "      <th>50%</th>\n",
       "      <th>75%</th>\n",
       "      <th>max</th>\n",
       "    </tr>\n",
       "    <tr>\n",
       "      <th>Korrekt_klassifiering</th>\n",
       "      <th></th>\n",
       "      <th></th>\n",
       "      <th></th>\n",
       "      <th></th>\n",
       "      <th></th>\n",
       "      <th></th>\n",
       "      <th></th>\n",
       "      <th></th>\n",
       "    </tr>\n",
       "  </thead>\n",
       "  <tbody>\n",
       "    <tr>\n",
       "      <th>J</th>\n",
       "      <td>474.0</td>\n",
       "      <td>121.751055</td>\n",
       "      <td>97.246995</td>\n",
       "      <td>15.0</td>\n",
       "      <td>63.0</td>\n",
       "      <td>97.5</td>\n",
       "      <td>137.0</td>\n",
       "      <td>683.0</td>\n",
       "    </tr>\n",
       "    <tr>\n",
       "      <th>N</th>\n",
       "      <td>129.0</td>\n",
       "      <td>473.441860</td>\n",
       "      <td>452.931198</td>\n",
       "      <td>52.0</td>\n",
       "      <td>208.0</td>\n",
       "      <td>343.0</td>\n",
       "      <td>571.0</td>\n",
       "      <td>3225.0</td>\n",
       "    </tr>\n",
       "  </tbody>\n",
       "</table>\n",
       "</div>"
      ],
      "text/plain": [
       "                       count        mean         std   min    25%    50%  \\\n",
       "Korrekt_klassifiering                                                      \n",
       "J                      474.0  121.751055   97.246995  15.0   63.0   97.5   \n",
       "N                      129.0  473.441860  452.931198  52.0  208.0  343.0   \n",
       "\n",
       "                         75%     max  \n",
       "Korrekt_klassifiering                 \n",
       "J                      137.0   683.0  \n",
       "N                      571.0  3225.0  "
      ]
     },
     "execution_count": 40,
     "metadata": {},
     "output_type": "execute_result"
    }
   ],
   "source": [
    "df.lengde_tekst.groupby(df.Korrekt_klassifiering).describe()"
   ]
  },
  {
   "cell_type": "markdown",
   "metadata": {},
   "source": [
    "Mulig cutoff gitt sample data - 140\n",
    "* Mister ca 25 % av de som er kategorisert rett - finn en annen måte å finne igjen disse hvis mulig\n",
    "* Fjerner over 75 % av feilkategoriserte tekster"
   ]
  },
  {
   "cell_type": "code",
   "execution_count": null,
   "metadata": {},
   "outputs": [],
   "source": [
    "# Slett feil kategoriserte (Korrekt_klassifisert = N) og over 140 tegn (lengde_tekst > 140) fra data settet/kategorisering\n",
    "# Se nærmere på forekomster N og < 140 tegn - finn fellestrekk"
   ]
  },
  {
   "cell_type": "code",
   "execution_count": 79,
   "metadata": {},
   "outputs": [],
   "source": [
    "#df.head(5)"
   ]
  },
  {
   "cell_type": "code",
   "execution_count": 59,
   "metadata": {},
   "outputs": [],
   "source": [
    "# Bruk for å se på J som er endret til N\n",
    "over_140 = df[\"lengde_tekst\"] > 140\n",
    "df[\"ny_kat\"] = np.where(over_140 == True, 'N', df[\"Korrekt_klassifiering\"])"
   ]
  },
  {
   "cell_type": "code",
   "execution_count": 78,
   "metadata": {},
   "outputs": [
    {
     "data": {
      "text/plain": [
       "12"
      ]
     },
     "execution_count": 78,
     "metadata": {},
     "output_type": "execute_result"
    }
   ],
   "source": [
    "# Henter ut rest av feilkategorisete rader\n",
    "results = df[(df['Korrekt_klassifiering'] == 'N') & (df[\"lengde_tekst\"] < 140)]\n",
    "#print(results.head(100))\n",
    "len(results)"
   ]
  },
  {
   "cell_type": "code",
   "execution_count": 77,
   "metadata": {},
   "outputs": [],
   "source": [
    "results.to_csv(\"../../data/skade_txt/rest_feil.csv\")"
   ]
  }
 ],
 "metadata": {
  "interpreter": {
   "hash": "844db29e5613e17f22f99f5f233dfaea94a17c7ad69361b51a89396bf3c059c8"
  },
  "kernelspec": {
   "display_name": "Python 3.10.6 64-bit ('txt_analyse': conda)",
   "name": "python3"
  },
  "language_info": {
   "codemirror_mode": {
    "name": "ipython",
    "version": 3
   },
   "file_extension": ".py",
   "mimetype": "text/x-python",
   "name": "python",
   "nbconvert_exporter": "python",
   "pygments_lexer": "ipython3",
   "version": "3.10.6"
  },
  "orig_nbformat": 4
 },
 "nbformat": 4,
 "nbformat_minor": 2
}
