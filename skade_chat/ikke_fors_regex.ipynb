{
 "cells": [
  {
   "cell_type": "code",
   "execution_count": 1,
   "metadata": {},
   "outputs": [],
   "source": [
    "import pandas as pd\n",
    "import numpy as np\n",
    "import plotnine as pn\n",
    "from siuba import filter, group_by, gather, _, summarize, arrange, select, inner_join, mutate, ungroup, count\n",
    "\n",
    "def plot_fix(wspace=0.25): \n",
    "    return pn.theme_minimal() + pn.theme(plot_background=pn.element_rect(fill=\"#FEF6E0\", color=\"#FEF6E0\"),  \\\n",
    "        strip_text = pn.element_text(  weight=\"bold\"), subplots_adjust={'wspace':wspace}, panel_grid=pn.element_line(color=\"antiquewhite\")) \n",
    "\n",
    "pd.set_option('display.max_colwidth', None)\n",
    "pd.set_option(\"display.precision\", 3)\n",
    "pd.set_option('display.max_rows', 60)"
   ]
  },
  {
   "cell_type": "code",
   "execution_count": 2,
   "metadata": {},
   "outputs": [],
   "source": [
    "# ml imports\n",
    "from sklearn.model_selection import train_test_split\n",
    "from sklearn.feature_extraction.text import CountVectorizer, TfidfTransformer\n",
    "from sklearn.linear_model import SGDClassifier, LogisticRegression\n",
    "from sklearn.pipeline import Pipeline\n",
    "from sklearn import metrics\n",
    "from sklearn.model_selection import GridSearchCV"
   ]
  },
  {
   "cell_type": "code",
   "execution_count": 3,
   "metadata": {},
   "outputs": [],
   "source": [
    "relative_path = \"../../data/skade_txt/NL_slowchat_raw_data.pickle\"\n",
    "df = pd.read_pickle(relative_path) >> filter(~_.Text.isna())"
   ]
  },
  {
   "cell_type": "code",
   "execution_count": 4,
   "metadata": {},
   "outputs": [],
   "source": [
    "saken = \"(?:denne)? ?(?:saken|skadesaken|skadesak|sak|forsikringssaken|skaden|kravet|saka)\"\n",
    "avsluttes = \"(?:da|derfor)? ?(?:avsluttes|slettes|avslutas|avslutast|avsluttast|kanselleres|lukkes|slettes|trekkes)\"\n",
    "avsluttet = \"(?:avsluttet|avslutta|lukket|lukka|kansellert|behandlet|ferdigbehandlet|slettet|sletta|trukket)\"\n",
    "avslutte = \"(?:avslutte|kansellere|lukke|slette)\"\n",
    "avslutter = \"(?:avslutter|kansellerer|lukker|sletter|trekker|trekkjer)\"\n",
    "avslutt = \"(?:avslutt|kanseller|lukk|slett)\"\n",
    "jeg = \"(?:jeg|vi|eg)\"\n",
    "min = \"(?:min|våres|vår)\"\n",
    "dere = \"(?:du|dere|gjensidige)\"\n",
    "forsikringen = \"(?:forsikringen|forsikring)\"\n",
    "brukt = \"(?:brukt|benyttet)\"\n",
    "bruker = \"(?:bruker|benytter|benyttjer|benyttar)\"\n",
    "bruke = \"(?:bruke|benytte)\"\n",
    "ikke = \"(?:ikke|ikkje)\"\n",
    "noe = \"(?:noe|noko)\"\n",
    "\n",
    "regexes = [\n",
    "    f\"koster under egenandelen\",\n",
    "    f\"{saken} kan {avsluttes}\",\n",
    "    f\"ønsker {jeg}? ?{ikke} (?:å)? ?{bruke} {forsikringen}\",\n",
    "    f\"Beløpet er under egenandel\",\n",
    "    f\"{forsikringen} blir {ikke} {brukt}\",\n",
    "    f\"(?:Bare|berre) å {avslutte} {saken}\",\n",
    "    f\"kostnad(?:en)? er under egenandel\",\n",
    "    f\"Kostnaden[e] for å utbedre skaden er under egenandelen\",\n",
    "    f\"Velger å {ikke} {bruke} (?:meg|oss) av {forsikringen}\",\n",
    "    f\"velger å {ikke} {bruke} {forsikringen} {min} på {saken}\",\n",
    "    f\"{jeg} tar kostnaden selv\",\n",
    "    f\"(?:anser vi|vi anser) {saken} som {avsluttet}\",\n",
    "    f\"{dere} kan {avslutte} {saken}\",\n",
    "    f\"{jeg} ønsker å {avslutte} {saken}\",\n",
    "    f\"Har tatt regningen selv\",\n",
    "    f\"beløp ble lavere enn egenandel\",\n",
    "    f\"for å {ikke} {bruke} {forsikringen}\",\n",
    "    f\"uten bruk av {forsikringen}\",\n",
    "    f\"bestemt (?:meg|oss) for å {ikke} {bruke} {forsikringen}\",\n",
    "    f\"{jeg} {avslutter} {saken}\",\n",
    "    f\"Kan {dere} {avslutte} {saken}\",\n",
    "    f\"kan vel {saken} {avsluttes}\",\n",
    "    f\"{jeg} kan {avslutte} {saken}\",\n",
    "    f\"Da {avslutter} {jeg} {saken} her\",\n",
    "    f\"{jeg} ser {saken} som {avsluttet}\",\n",
    "    f\"fra {min} side er {saken} {avsluttet}\",\n",
    "    f\"Da kan {saken} {avsluttes}\",\n",
    "    f\"Anser {saken} som {avsluttet}\",\n",
    "    f\"Da er {saken} {avsluttet} fra {min} side\",\n",
    "    f\"{saken} er løst\\\\.\",\n",
    "    f\"{saken} kan (?:bare)? ?{avsluttes}\",\n",
    "    f\"{jeg} ber om (?:at)? ?(?:saken|skadesaken) {avsluttes}\",\n",
    "    f\"(?:mindre|lavere) enn egenandelen\",\n",
    "    f\"{dere} bare {avslutter} {saken}\",\n",
    "    f\"{saken} (?:skal|kan)? ?{avsluttes}\",\n",
    "    f\"{saken} {avsluttes}\",\n",
    "    f\"{dere} kan {avslutte} {saken}\",\n",
    "    f\"Blir {ikke} {noe} krav i {saken}\",\n",
    "    f\"Kan {dere} {avslutte} {saken}\",\n",
    "    f\"Denne skal {avsluttes}\",\n",
    "    f\"kan {avsluttes}\\\\.\",\n",
    "    f\"{jeg} ønsker {ikke} å {bruke} (?:oss|meg) av {forsikringen}\",\n",
    "    f\"Da er det bare å avslutte {saken}\",\n",
    "    f\"{dere} kan (?:altså)? ?{avslutte} {saken}.\",\n",
    "    f\"{jeg} {avslutter} (?:gjerne)? ?{saken}\",\n",
    "    f\"{jeg} kan {avslutte} saken\",\n",
    "    f\"{jeg} {avslutter} {saken}\",\n",
    "    f\"Anser (?:da)? ?{saken} som {avsluttet}\",\n",
    "    f\"kan {avslutte} {saken}\",\n",
    "    f\"{saken} anses (?:som)? ?{avsluttet}\",\n",
    "    f\"{saken} kan (?:vel)? ?{avsluttes}\",\n",
    "    f\"{dere} kan (?:bare)? ?{avslutte} {saken}\",\n",
    "    f\"så {saken} blir {ikke} tatt på {forsikringen}\",\n",
    "    f\"{bruker} {ikke} {forsikringen}\",\n",
    "    f\"{jeg} ønsker {dere} {avslutter} {saken}\",\n",
    "    f\"{saken} kan {dere} {avslutte}\",\n",
    "    f\"denne kan {avsluttes}\",\n",
    "    f\"{saken} er bare å {avslutte}\",\n",
    "    f\"{dere} kan {avslutte} den {saken}\",\n",
    "    f\"den kan {avsluttes} for (?:våres|min) del\",\n",
    "    f\"{saken} anses som {avsluttet}\",\n",
    "    f\"uten å {bruke} {forsikringen}\",\n",
    "    f\"Så da kan {saken} bare {avsluttes}\",\n",
    "    f\"ber om at den {avsluttes}\",\n",
    "    f\"{jeg} {avslutter} derfor {saken}\",\n",
    "    \"kommer under egenandelen\",\n",
    "    f\"{jeg} tok kostnaden selv\",\n",
    "    f\"{jeg} vil {avslutte} {saken}\",\n",
    "    f\"velger derfor å trekke {saken}\",\n",
    "    f\"vennligst {avslutte} sak\",\n",
    "    f\"bare {avslutt} denne {saken}\",\n",
    "    f\"{saken} kan dermed {avsluttes}\",\n",
    "    f\"dere kan {avslutte} den\",\n",
    "    f\"{jeg} velger å ikke {bruke} {forsikringen}\"\n",
    "]\n",
    "\n",
    "regex_total = f\"(?:{'|'.join(regexes)})\""
   ]
  },
  {
   "cell_type": "code",
   "execution_count": 7,
   "metadata": {},
   "outputs": [],
   "source": [
    "#for i, reg in enumerate(regexes):\n",
    "#    print(i, reg)\n",
    "#    print(\"\")"
   ]
  },
  {
   "cell_type": "code",
   "execution_count": 5,
   "metadata": {},
   "outputs": [
    {
     "data": {
      "text/plain": [
       "(603, 1)"
      ]
     },
     "execution_count": 5,
     "metadata": {},
     "output_type": "execute_result"
    }
   ],
   "source": [
    "df_matches = (\n",
    "    df >>\n",
    "    filter(_.Text.str.contains(regex_total, case=False, na=False)) >>\n",
    "    select(_.Text)\n",
    ")\n",
    "df_matches.shape"
   ]
  },
  {
   "cell_type": "code",
   "execution_count": 21,
   "metadata": {},
   "outputs": [
    {
     "data": {
      "text/plain": [
       "pandas.core.frame.DataFrame"
      ]
     },
     "execution_count": 21,
     "metadata": {},
     "output_type": "execute_result"
    }
   ],
   "source": [
    "df_matches.to_excel(\"../../data/skadesak_matces.xlsx\")"
   ]
  }
 ],
 "metadata": {
  "interpreter": {
   "hash": "844db29e5613e17f22f99f5f233dfaea94a17c7ad69361b51a89396bf3c059c8"
  },
  "kernelspec": {
   "display_name": "Python 3.10.6 64-bit ('txt_analyse': conda)",
   "name": "python3"
  },
  "language_info": {
   "codemirror_mode": {
    "name": "ipython",
    "version": 3
   },
   "file_extension": ".py",
   "mimetype": "text/x-python",
   "name": "python",
   "nbconvert_exporter": "python",
   "pygments_lexer": "ipython3",
   "version": "3.10.6"
  },
  "orig_nbformat": 4
 },
 "nbformat": 4,
 "nbformat_minor": 2
}
